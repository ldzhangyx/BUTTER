{
 "cells": [
  {
   "cell_type": "code",
   "execution_count": 1,
   "metadata": {},
   "outputs": [],
   "source": [
    "from IPython.display import clear_output\n",
    "from IPython.display import Javascript\n",
    "import pysnooper\n",
    "import os\n",
    "from sklearn.metrics import precision_score, recall_score, f1_score\n",
    "import random\n",
    "import pickle\n",
    "from torch.utils.tensorboard import SummaryWriter\n",
    "import argparse\n",
    "from torch.utils import data\n",
    "from torch.optim.lr_scheduler import ExponentialLR\n",
    "from torch.nn import functional as F\n",
    "from torch.distributions import kl_divergence, Normal\n",
    "from torch import optim\n",
    "import sys\n",
    "import numpy as np\n",
    "import torch\n",
    "import statistics as stat\n",
    "import pdb\n",
    "%run MusicData.ipynb\n",
    "%run model-CCA.ipynb\n",
    "%run utils.ipynb"
   ]
  },
  {
   "cell_type": "code",
   "execution_count": 2,
   "metadata": {},
   "outputs": [],
   "source": [
    "batch_size = 4\n",
    "data_length = 64  # 48\n",
    "need_listen = True\n",
    "is_load = True\n",
    "model_name = 'cca-simple'\n",
    "learning_rate = 0.001\n",
    "alpha = 0.1 # CCA\n",
    "beta = 0.01 # KLD\n",
    "gamma = 0.5 # CCA background\n",
    "generation_mode = True\n",
    "\n",
    "os.environ['CUDA_LAUNCH_BLOCKING'] = \"1\""
   ]
  },
  {
   "cell_type": "markdown",
   "metadata": {},
   "source": [
    "### Data Pre-processing\n"
   ]
  },
  {
   "cell_type": "code",
   "execution_count": 3,
   "metadata": {},
   "outputs": [
    {
     "name": "stdout",
     "output_type": "stream",
     "text": [
      "data length: train: 56556,valid: 6160\n"
     ]
    }
   ],
   "source": [
    "data_path = \"/gpfsnyu/scratch/yz6492/multimodal/data/MusicData_full.pkl\"\n",
    "with open(data_path, 'rb') as f:\n",
    "    all_data = pickle.load(f)\n",
    "    random.Random(42).shuffle(all_data)\n",
    "train_data = all_data[:int(0.9*len(all_data))]\n",
    "valid_data = all_data[int(0.9*len(all_data)):] #int(0.9*len(all_data))]\n",
    "# test_data  = all_data[int(0.9*len(all_data)):]\n",
    "\n",
    "train_data = data_augment(train_data, data_length)\n",
    "valid_data = data_augment(valid_data, data_length)\n",
    "# test_data = data_augment(test_data, data_length)\n",
    "\n",
    "# check for data/batch coherence\n",
    "train_data = train_data[:len(train_data)//batch_size * batch_size]\n",
    "valid_data = valid_data[:len(valid_data)//batch_size * batch_size]\n",
    "# test_data = test_data[:len(test_data)//batch_size * batch_size]\n",
    "\n",
    "print(f'data length: train: {len(train_data)},valid: {len(valid_data)}') #,test: {len(test_data)}, ')\n",
    "\n",
    "train_data = train_data[:int(len(train_data)/batch_size)] * batch_size\n",
    "\n",
    "random.shuffle(train_data)\n",
    "random.shuffle(valid_data)\n",
    "\n",
    "all_data = []"
   ]
  },
  {
   "cell_type": "code",
   "execution_count": 4,
   "metadata": {},
   "outputs": [
    {
     "name": "stdout",
     "output_type": "stream",
     "text": [
      "[0, 0, 0]\n"
     ]
    }
   ],
   "source": [
    "collect = [0,0,0]\n",
    "for data_ in all_data:\n",
    "    if data_.culture == 'Chinese':\n",
    "        collect[0] += 1\n",
    "    elif data_.culture == 'English':\n",
    "        collect[1] += 1\n",
    "    else:\n",
    "        collect[2] += 1\n",
    "print(collect)"
   ]
  },
  {
   "cell_type": "code",
   "execution_count": 5,
   "metadata": {},
   "outputs": [],
   "source": [
    "# train_data = Dataset(train_data)\n",
    "# train_loader = data.DataLoader(train_data, batch_size=1, shuffle=True)\n",
    "# for i, labels in train_loader:\n",
    "#     factors = [labels[0][0],labels[1][0],labels[2][0]]\n",
    "#     for j in factors:\n",
    "#         if torch.sum(j) < 1:\n",
    "#             print(str(j))"
   ]
  },
  {
   "cell_type": "code",
   "execution_count": 6,
   "metadata": {},
   "outputs": [],
   "source": [
    "culture_list = ['Chinese','English','Irish'] # 3\n",
    "# key_list = ['C ','D ','D-','E ','E-','F ','G ','G-','A ','A-','B ','B-'] # 24 + 1 = 25\n",
    "key_list = ['major','minor', 'key_others']\n",
    "# meter_list = [2,3,4,6,8,0] # 6\n",
    "meter_list = ['3','4', 'meter_others']"
   ]
  },
  {
   "cell_type": "code",
   "execution_count": 7,
   "metadata": {},
   "outputs": [],
   "source": [
    "key_tensor = torch.zeros(len(key_list))\n",
    "meter_tensor = torch.zeros(len(meter_list))\n",
    "culture_tensor = torch.zeros(len(culture_list))\n",
    "word2idx = dict()\n",
    "for i in range(len(key_tensor)+len(meter_tensor)+len(culture_tensor)):\n",
    "    if i < len(key_tensor):\n",
    "        new_tensor = key_tensor.clone()\n",
    "        new_tensor[i] = 1\n",
    "        word2idx[key_list[np.argmax(new_tensor)]] = i\n",
    "    elif i < (len(key_tensor) + len(meter_tensor)):\n",
    "        new_tensor = meter_tensor.clone()\n",
    "        new_tensor[i-len(key_tensor)] = 1\n",
    "        word2idx[meter_list[np.argmax(new_tensor)]] = i\n",
    "    else:\n",
    "        new_tensor = culture_tensor.clone()\n",
    "        new_tensor[i - (len(key_tensor) + len(meter_tensor))] = 1\n",
    "        word2idx[culture_list[np.argmax(new_tensor)]] = i"
   ]
  },
  {
   "cell_type": "code",
   "execution_count": 8,
   "metadata": {},
   "outputs": [
    {
     "data": {
      "text/plain": [
       "{'major': 0,\n",
       " 'minor': 1,\n",
       " 'key_others': 2,\n",
       " '3': 3,\n",
       " '4': 4,\n",
       " 'meter_others': 5,\n",
       " 'Chinese': 6,\n",
       " 'English': 7,\n",
       " 'Irish': 8}"
      ]
     },
     "execution_count": 8,
     "metadata": {},
     "output_type": "execute_result"
    }
   ],
   "source": [
    "word2idx"
   ]
  },
  {
   "cell_type": "code",
   "execution_count": 9,
   "metadata": {},
   "outputs": [],
   "source": [
    "class Dataset(data.Dataset):\n",
    "    def __init__(self, data):\n",
    "        \n",
    "#         self.length = np.concatenate(all_data.numpy()).shape[0]//(batch_size*data_length)*batch_size*data_length\n",
    "#         self.data = np.concatenate(all_data.numpy())[:length].reshape(-1, batch_size, data_length, 130)\n",
    "    \n",
    "        self.data = data\n",
    "        \n",
    "        self.culture_list = culture_list\n",
    "        self.key_list = key_list\n",
    "        self.meter_list = meter_list\n",
    "        \n",
    "    def __len__(self):\n",
    "        return len(self.data)\n",
    "    \n",
    "    def __getitem__(self, index):\n",
    "        X = self.data[index].torch_matrix[:data_length]\n",
    "        culture = self.data[index].culture\n",
    "        key = self.data[index].key\n",
    "        meter = self.data[index].meter\n",
    "        \n",
    "        # tokenize\n",
    "        culture_tensor = torch.zeros(len(self.culture_list))\n",
    "        culture_index = self.culture_list.index(culture)\n",
    "        culture_tensor[culture_index] = 1\n",
    "        \n",
    "        meter_tensor = torch.zeros(len(self.meter_list))\n",
    "#         if int(meter[0]) in self.meter_list:\n",
    "#             meter_index = self.meter_list.index(int(meter[0]))\n",
    "#             meter_tensor[meter_index] = 1\n",
    "        if int(meter[0]) % 3 == 0:\n",
    "            meter_tensor[0] = 1\n",
    "        elif int(meter[0]) % 2 == 0:\n",
    "            meter_tensor[1] = 1\n",
    "        else:\n",
    "            meter_tensor[-1] = 1\n",
    "        \n",
    "        key_tensor = torch.zeros(len(self.key_list))\n",
    "        # key_index = self.key_list.index(key[:2].upper())\n",
    "        # print(key)\n",
    "        if key.split()[-1] == 'major':\n",
    "            key_tensor[0] = 1\n",
    "        elif key.split()[-1] == 'minor':\n",
    "            key_tensor[1] = 1\n",
    "        else: # dorian and else\n",
    "            key_tensor[2] = 1\n",
    "            \n",
    "#         print(key_tensor, culture_tensor, meter_tensor)\n",
    "        \n",
    "        \n",
    "        return X, (culture_tensor, key_tensor, meter_tensor)"
   ]
  },
  {
   "cell_type": "markdown",
   "metadata": {},
   "source": [
    "### Loss"
   ]
  },
  {
   "cell_type": "code",
   "execution_count": 10,
   "metadata": {},
   "outputs": [],
   "source": [
    "def loss_function(recon, target_tensor, dis, \n",
    "                  language_index, z_matrix, \n",
    "                 alpha=1,\n",
    "                 beta=1):\n",
    "    '''\n",
    "    提取出来的z_matrix要和所有的embedding做区分。所有特征加起来共有34种可能性，所以计算一个34*3的correlation。\n",
    "    '''\n",
    "    \n",
    "    \n",
    "    CE = F.nll_loss(\n",
    "        recon.view(-1, recon.size(-1)),\n",
    "        target_tensor,\n",
    "        reduction='mean')\n",
    "    normal = Normal(\n",
    "        torch.zeros(dis.mean.size()).cuda(),\n",
    "        torch.ones(dis.stddev.size()).cuda())\n",
    "    KLD = kl_divergence(dis, normal).mean()\n",
    "    \n",
    "    (batch_size, n_features, n_dims) = z_matrix.size()\n",
    "    # \n",
    "    embed_weight = model.word_embeds.weight\n",
    "    corr_mask = np.zeros([batch_size, embed_weight.size(0), n_features]) # (bsz, 34, 3)\n",
    "    for i, sample in enumerate(language_index.cpu().numpy()): # sample:(3), language_index: (bsz, 3 )\n",
    "        for j, element in enumerate(sample): # element: index(1)\n",
    "            corr_mask[i,element, j] = 1\n",
    "    noncorr_mask = np.ones([batch_size, embed_weight.size(0), n_features]) - corr_mask\n",
    "    embed_weight_stacked = embed_weight.repeat(batch_size, 1, 1)\n",
    "    \n",
    "    corr_mask, noncorr_mask = torch.from_numpy(corr_mask).cuda(), torch.from_numpy(noncorr_mask).cuda()\n",
    "    \n",
    "    z_matrix_norm = torch.norm(z_matrix, dim=-1, keepdim=True)\n",
    "    embed_weight_stacked_norm = torch.norm(embed_weight_stacked, dim=-1, keepdim=True)\n",
    "    \n",
    "    corr = torch.bmm(embed_weight_stacked, z_matrix.permute(0,2,1)) # corr: (bsz, 34, 3)\n",
    "    norm = torch.bmm(embed_weight_stacked_norm, z_matrix_norm.permute(0,2,1))\n",
    "    \n",
    "    res = corr / norm\n",
    "    \n",
    "    positive_result = res * corr_mask\n",
    "    negative_result = torch.abs(res * noncorr_mask)\n",
    "    \n",
    "#     pdb.set_trace()\n",
    "    \n",
    "    CCA_loss = 3 + (-torch.sum(positive_result, dim = [1,2]) + gamma * torch.sum(negative_result, dim = [1,2])).mean()\n",
    "    # CCA_loss = torch.sigmoid(CCA_loss_)\n",
    "\n",
    "    # pdb.set_trace()\n",
    "    return CE +  alpha * CCA_loss + beta * KLD, [CE, CCA_loss, KLD]"
   ]
  },
  {
   "cell_type": "markdown",
   "metadata": {},
   "source": [
    "### train & validate"
   ]
  },
  {
   "cell_type": "code",
   "execution_count": 11,
   "metadata": {},
   "outputs": [],
   "source": [
    "## train stats\n",
    "loss_sum = list()\n",
    "recon_sum = list()\n",
    "cca_sum = list()\n",
    "kld_sum = list()\n",
    "\n",
    "best_loss = np.inf\n",
    "history_loss_list = list()"
   ]
  },
  {
   "cell_type": "code",
   "execution_count": 12,
   "metadata": {},
   "outputs": [],
   "source": [
    "def train(data_X, labels, step):\n",
    "    global loss_sum, recon_sum, kld_sum, cca_sum, history_loss_list, best_loss\n",
    "    \n",
    "    input_tensor, label_tensor = data_X.clone(), data_X.clone()\n",
    "    [culture_label, key_label, meter_label] = labels\n",
    "    if torch.cuda.is_available():\n",
    "        input_tensor, label_tensor = input_tensor.cuda(), label_tensor.cuda()\n",
    "    optimizer.zero_grad()\n",
    "    keywords = [[key_list[np.argmax(element)] for element in key_label], \n",
    "                [meter_list[np.argmax(element)] for element in meter_label], \n",
    "                [culture_list[np.argmax(element)] for element in culture_label]]\n",
    "#     print(keywords)\n",
    "    (recon, dis_mean, dis_stddev, language_index, z_matrix) = model(input_tensor, keywords)\n",
    "    dis = Normal(dis_mean, dis_stddev)\n",
    "#     pdb.set_trace()\n",
    "\n",
    "    label_tensor = label_tensor.view(-1, label_tensor.size(-1)).max(-1)[1]\n",
    "    key_label = key_label.view(-1, key_label.size(-1)).max(-1)[1]\n",
    "    meter_label = meter_label.view(-1, meter_label.size(-1)).max(-1)[1]\n",
    "    culture_label = culture_label.view(-1, culture_label.size(-1)).max(-1)[1]\n",
    "\n",
    "    if torch.cuda.is_available():\n",
    "        label_tensor, key_label, meter_label, culture_label = label_tensor.cuda(), key_label.cuda(), meter_label.cuda(), culture_label.cuda()\n",
    "\n",
    "    loss, loss_elements = loss_function(recon, label_tensor, dis, \n",
    "              language_index, z_matrix,\n",
    "             alpha=alpha, # ignore classifier\n",
    "             beta=beta)\n",
    "    loss.backward()\n",
    "    \n",
    "#     print(model.word_embeds.weight.grad)\n",
    "#     print(model.music_embeds.weight.grad)\n",
    "\n",
    "    loss_sum.append(loss.item()) \n",
    "    recon_sum.append(loss_elements[0].item())\n",
    "    cca_sum.append(loss_elements[1].item())\n",
    "    kld_sum.append(loss_elements[2].item())\n",
    "\n",
    "    writer.add_scalars('Train Loss', {'Total Loss':loss.item()}, step)\n",
    "#         for index, tag in enumerate(['Recon Loss','Key Loss','Meter Loss','Culture Loss', 'KLD']):\n",
    "#             writer.add_scalars('Loss',{tag: loss_elements[index].item()}, step)\n",
    "\n",
    "    torch.nn.utils.clip_grad_norm_(model.parameters(), 1)\n",
    "    optimizer.step()\n",
    "    step += 1\n",
    "    \n",
    "\n",
    "    if step % 500 == 0:\n",
    "        model.eval()\n",
    "        valid_loader = data.DataLoader(valid_data, batch_size=len(valid_data), shuffle=True)\n",
    "        with torch.no_grad():\n",
    "            for valid_data_X, valid_label in valid_loader:\n",
    "                valid_loss = validate(valid_data_X, valid_label)\n",
    "#                 generate(valid_data_X, valid_label)\n",
    "                break\n",
    "#                 pdb.set_trace()\n",
    "        model.train()\n",
    "        print(f\"batch {step}: Total {stat.mean(loss_sum):.5f}, Recon {stat.mean(recon_sum):.5f}, CCA {stat.mean(cca_sum):.5f}, KLD {stat.mean(kld_sum):.5f},\" \n",
    "              f\"Valid Loss {valid_loss:.5f}\")\n",
    "        writer.add_scalars('Valid Loss', {'Total Loss':valid_loss}, step)\n",
    "        sys.stdout.flush()\n",
    "        \n",
    "        \n",
    "            # early stop\n",
    "        if valid_loss < best_loss:\n",
    "            history_loss_list = list()\n",
    "        else:\n",
    "            history_loss_list.append(valid_loss)\n",
    "        \n",
    "        \n",
    "        loss_sum = list()\n",
    "        recon_sum = list()\n",
    "        cca_sum = list()\n",
    "        kld_sum = list()\n",
    "        \n",
    "        \n",
    "        \n",
    "\n",
    "    if step % 2500 == 0:\n",
    "        scheduler.step()\n",
    "    if step % 5000 == 0:\n",
    "        model.eval()\n",
    "        valid_loader = data.DataLoader(valid_data, batch_size=len(valid_data), shuffle=True)\n",
    "        with torch.no_grad():\n",
    "            for valid_data_X, valid_label in valid_loader:\n",
    "                validate_f(valid_data_X, valid_label)\n",
    "                break\n",
    "        model.train()\n",
    "#     if step % 5000 == 0:\n",
    "#         for i in range(3):\n",
    "#             idx = random.randint(0,data_X.size(0)-1)\n",
    "#             print('label:')\n",
    "#             numpy_to_midi(data_X[idx], output_folder = 'demo/train/', listen = need_listen)\n",
    "#             print('generated:')\n",
    "#             numpy_to_midi(recon[idx], output_folder = 'demo/train/', listen = need_listen)\n",
    "    return step"
   ]
  },
  {
   "cell_type": "code",
   "execution_count": 13,
   "metadata": {},
   "outputs": [],
   "source": [
    "def validate(data, labels, output = False):\n",
    "#     for batch_idx, batch in enumerate(data):\n",
    "    input_tensor, label_tensor = data, data\n",
    "    [culture_label, key_label, meter_label] = labels\n",
    "    if torch.cuda.is_available():\n",
    "        input_tensor, label_tensor = input_tensor.cuda(), label_tensor.cuda()\n",
    "    keywords = [[key_list[np.argmax(element)] for element in key_label], \n",
    "                [meter_list[np.argmax(element)] for element in meter_label], \n",
    "                [culture_list[np.argmax(element)] for element in culture_label]]\n",
    "    (recon, dis_mean, dis_stddev, language_index, z_matrix) = model(input_tensor, keywords)\n",
    "    dis = Normal(dis_mean, dis_stddev)\n",
    "#         print(key_label)\n",
    "    label_tensor = label_tensor.view(-1, label_tensor.size(-1)).max(-1)[1]\n",
    "    if torch.cuda.is_available():\n",
    "        label_tensor = label_tensor.cuda()\n",
    "    loss, loss_elements = loss_function(recon, label_tensor, dis, \n",
    "              language_index, z_matrix,\n",
    "             alpha=alpha, # ignore classifier\n",
    "             beta=beta)\n",
    "    \n",
    "    # print(loss_elements[1])\n",
    "#     for i in range(3):\n",
    "#         idx = random.randint(0,data.size(0)-1)\n",
    "#         print('label:')\n",
    "#         numpy_to_midi(data[idx], output_folder = 'demo/valid/',listen = need_listen)\n",
    "#         print('generated:')\n",
    "#         numpy_to_midi(recon[idx], output_folder = 'demo/valid/', listen = need_listen)\n",
    "    \n",
    "    if output:\n",
    "        print(f\"Validation Loss: {loss_elements[0].item():.5f}, KLD {loss_elements[4].item():.5f}\")\n",
    "        sys.stdout.flush()\n",
    "    return loss.item()"
   ]
  },
  {
   "cell_type": "code",
   "execution_count": 14,
   "metadata": {},
   "outputs": [],
   "source": [
    "def validate_f(data, labels):\n",
    "    # 计算每个label对应的embedding，直接做correlation。\n",
    "    \n",
    "#     for batch_idx, batch in enumerate(data):\n",
    "    input_tensor, label_tensor = data, data\n",
    "    [culture_label, key_label, meter_label] = labels\n",
    "    if torch.cuda.is_available():\n",
    "        input_tensor, label_tensor = input_tensor.cuda(), label_tensor.cuda()\n",
    "    keywords = [[key_list[np.argmax(element)] for element in key_label], \n",
    "                [meter_list[np.argmax(element)] for element in meter_label], \n",
    "                [culture_list[np.argmax(element)] for element in culture_label]]\n",
    "    (recon, dis_mean, dis_stddev, language_index, z_matrix) = model(input_tensor, keywords)\n",
    "    \n",
    "    key_embeds_matrix = model.word_embeds(torch.LongTensor([model.word2idx[str(j)]  for j in key_list]).cuda())\n",
    "    meter_embeds_matrix = model.word_embeds(torch.LongTensor([model.word2idx[str(j)]  for j in meter_list]).cuda())\n",
    "    culture_embeds_matrix = model.word_embeds(torch.LongTensor([model.word2idx[str(j)]  for j in culture_list]).cuda())\n",
    "    \n",
    "    key_label_b, culture_label_b, meter_label_b = \\\n",
    "        np.argmax(key_label.cpu().numpy(), axis = 1), \\\n",
    "        np.argmax(culture_label.cpu().numpy(), axis = 1),\\\n",
    "        np.argmax(meter_label.cpu().numpy(), axis = 1),\n",
    "\n",
    "    z_key = z_matrix[:, 0, :].squeeze(1) # (batch size, emb size)\n",
    "    key_result = np.zeros(input_tensor.size(0))\n",
    "    for i, z_sample in enumerate(z_key): # z_sample: ([emb_size])\n",
    "        z_key_norm = torch.norm(z_sample, dim=-1, keepdim=True) #[1]\n",
    "        key_embeds_matrix_norm = torch.norm(key_embeds_matrix, dim=-1, keepdim=True) # [25]\n",
    "        corr = key_embeds_matrix * z_sample # [25, 1]\n",
    "        norm = key_embeds_matrix_norm * z_key_norm\n",
    "        res = torch.sum(corr / norm, -1) # [25,]\n",
    "        key_result[i] = np.argmax(res.cpu().numpy())\n",
    "        \n",
    "    z_meter = z_matrix[:, 1, :].squeeze(1) # (batch size, emb size)\n",
    "    meter_result = np.zeros(input_tensor.size(0))\n",
    "    for i, z_sample in enumerate(z_meter): # z_sample: ([emb_size])\n",
    "        z_meter_norm = torch.norm(z_sample, dim=-1, keepdim=True) #[1]\n",
    "        meter_embeds_matrix_norm = torch.norm(meter_embeds_matrix, dim=-1, keepdim=True) # [25]\n",
    "        corr = meter_embeds_matrix * z_sample # [25, 1]\n",
    "        norm = meter_embeds_matrix_norm * z_key_norm\n",
    "        res = torch.sum(corr / norm, -1) # [25,]\n",
    "        meter_result[i] = np.argmax(res.cpu().numpy())\n",
    "        \n",
    "    z_culture = z_matrix[:, 2, :].squeeze(1) # (batch size, emb size)\n",
    "    culture_result = np.zeros(input_tensor.size(0))\n",
    "    for i, z_sample in enumerate(z_culture): # z_sample: ([emb_size])\n",
    "        z_culture_norm = torch.norm(z_sample, dim=-1, keepdim=True) #[1]\n",
    "        culture_embeds_matrix_norm = torch.norm(culture_embeds_matrix, dim=-1, keepdim=True) # [25]\n",
    "        corr = culture_embeds_matrix * z_sample # [25, 1]\n",
    "        norm = culture_embeds_matrix_norm * z_key_norm\n",
    "        res = torch.sum(corr / norm, -1) # [25,]\n",
    "        culture_result[i] = np.argmax(res.cpu().numpy())\n",
    "\n",
    "\n",
    "#     key_f = f1_score(key_label_b, key_result, average=\"macro\")\n",
    "#     culture_f = f1_score(culture_label_b, culture_result, average=\"macro\")\n",
    "#     meter_f = f1_score(meter_label_b, meter_result, average=\"macro\")\n",
    "    key_f = f1_score(key_label_b, key_result, average=\"micro\")\n",
    "    culture_f = f1_score(culture_label_b, culture_result, average=\"micro\")\n",
    "    meter_f = f1_score(meter_label_b, meter_result, average=\"micro\")\n",
    "\n",
    "    print(f\"key f: {key_f}, meter f: {meter_f}, culture f: {culture_f}\")"
   ]
  },
  {
   "cell_type": "code",
   "execution_count": 15,
   "metadata": {},
   "outputs": [],
   "source": [
    "class MinExponentialLR(ExponentialLR):\n",
    "    def __init__(self, optimizer, gamma, minimum, last_epoch=-1):\n",
    "        self.min = minimum\n",
    "        super(MinExponentialLR, self).__init__(optimizer, gamma, last_epoch=-1)\n",
    "\n",
    "    def get_lr(self):\n",
    "        return [\n",
    "            max(base_lr * self.gamma**self.last_epoch, self.min)\n",
    "            for base_lr in self.base_lrs\n",
    "        ]"
   ]
  },
  {
   "cell_type": "code",
   "execution_count": 16,
   "metadata": {},
   "outputs": [],
   "source": [
    "def testing(samples):\n",
    "    [culture_label, key_label, meter_label] = labels\n",
    "    (recon, dis_mean, dis_stddev, y_key, y_meter, y_culture) = model(input_tensor)"
   ]
  },
  {
   "cell_type": "code",
   "execution_count": 17,
   "metadata": {},
   "outputs": [],
   "source": [
    "# def inference()"
   ]
  },
  {
   "cell_type": "markdown",
   "metadata": {},
   "source": [
    "### Generation"
   ]
  },
  {
   "cell_type": "code",
   "execution_count": 18,
   "metadata": {},
   "outputs": [],
   "source": [
    "def generate(data_X, labels, culture = 2, meter = -1, key = -1, resample = True):\n",
    "    model.eval()\n",
    "    input_tensor, label_tensor = data_X, data_X\n",
    "    [culture_label, key_label, meter_label] = labels\n",
    "    \n",
    "    keywords = [[key_list[np.argmax(element)] for element in key_label], \n",
    "            [meter_list[np.argmax(element)] for element in meter_label], \n",
    "            [culture_list[np.argmax(element)] for element in culture_label]]\n",
    "    \n",
    "    key_label, culture_label, meter_label = \\\n",
    "        np.argmax(key_label.numpy(), axis = 1), \\\n",
    "        np.argmax(culture_label.numpy(), axis = 1),\\\n",
    "        np.argmax(meter_label.numpy(), axis = 1), # 将label从one-hot改为index\n",
    "    if torch.cuda.is_available():\n",
    "        input_tensor, label_tensor = input_tensor.cuda(), label_tensor.cuda()\n",
    "    dis, mu, var = model.encoder(input_tensor)\n",
    "    \n",
    "\n",
    "    \n",
    "    if resample:\n",
    "        z = dis.rsample()\n",
    "    \n",
    "    sample1_index = 0\n",
    "    # print(sample1_index)\n",
    "    z_others = z[sample1_index][model.z_key_dims + model.z_meter_dims + model.z_culture_dims:]\n",
    "    z_key = z[sample1_index][:model.z_key_dims]\n",
    "    z_culture = z[sample1_index][model.z_key_dims+model.z_meter_dims:model.z_key_dims+model.z_meter_dims+model.z_culture_dims]\n",
    "    z_meter = z[sample1_index][model.z_key_dims:model.z_key_dims+model.z_meter_dims]\n",
    "    \n",
    "    \n",
    "    \n",
    "    z_key_avg_dict_collection = {i:list() for i in range(len(key_list))}\n",
    "    z_meter_avg_dict_collection = {i:list() for i in range(len(meter_list))}\n",
    "    z_culture_avg_dict_collection = {i:list() for i in range(len(culture_list))}\n",
    "    \n",
    "    for i, sample in enumerate(input_tensor): # 收集各个部分的z\n",
    "        z_key_avg_dict_collection[key_label[i]].append((mu[i][:model.z_key_dims], \n",
    "                                                   var[i][:model.z_key_dims]))\n",
    "        z_meter_avg_dict_collection[meter_label[i]].append((mu[i][model.z_key_dims:model.z_key_dims+model.z_meter_dims], \n",
    "                                                       var[i][model.z_key_dims:model.z_key_dims+model.z_meter_dims]))\n",
    "        z_culture_avg_dict_collection[culture_label[i]].append((mu[i][model.z_key_dims+model.z_meter_dims:model.z_key_dims+model.z_meter_dims+model.z_culture_dims], \n",
    "                                                   var[i][model.z_key_dims+model.z_meter_dims:model.z_key_dims+model.z_meter_dims+model.z_culture_dims]))\n",
    "        \n",
    "    #对每一类z都计算一个平均的Normal   \n",
    "    def calculate_normal(item_list, dim = model.feature_dims):\n",
    "        if len(item_list)>0:\n",
    "            return Normal(torch.mean(torch.stack([m[0] for m in item_list], dim = -1), dim=-1),torch.mean(torch.stack([m[1] for m in item_list], dim = -1), dim=-1))\n",
    "        return Normal(torch.zeros(dim), torch.ones(dim))\n",
    "\n",
    "    z_key_avg_dict_normal = {index:calculate_normal(item_list)\n",
    "                             for index, item_list in z_key_avg_dict_collection.items()}\n",
    "    z_meter_avg_dict_normal = {index:calculate_normal(item_list)\n",
    "                               for index, item_list in z_meter_avg_dict_collection.items()}\n",
    "    z_culture_avg_dict_normal = {index:calculate_normal(item_list)\n",
    "                                 for index, item_list in z_culture_avg_dict_collection.items()}\n",
    "    \n",
    "    \n",
    "    for option in  ['key','meter','culture']:\n",
    "        if option == 'key':\n",
    "            sample_z = torch.stack([torch.cat([z_key.rsample().cuda(), z_meter, z_culture, z_others], dim = -1) for i, z_key in z_key_avg_dict_normal.items()])\n",
    "        if option == 'culture':\n",
    "            sample_z = torch.stack([torch.cat([z_key, z_meter, z_culture.rsample(), z_others], dim = -1) for i, z_culture in z_culture_avg_dict_normal.items()])\n",
    "        if option == 'meter':\n",
    "            sample_z = torch.stack([torch.cat([z_key, z_meter.rsample(), z_culture, z_others], dim = -1) for i, z_meter in z_meter_avg_dict_normal.items()])\n",
    "\n",
    "    #     sample_z = torch.cat([z_key, z_meter, z_culture, z_others], dim = -1)\n",
    "    #     sample_z = sample_z.unsqueeze(0)\n",
    "\n",
    "        recon = model.decoder(sample_z)\n",
    "    #     recon = recon[0]\n",
    "\n",
    "        print(\"origin:\")\n",
    "        print(keywords[0][sample1_index], keywords[1][sample1_index], keywords[2][sample1_index])\n",
    "        numpy_to_midi(data_X[sample1_index], listen = need_listen)\n",
    "        print(f\"{option}_transfer:\")\n",
    "        for i in range(recon.size(0)):\n",
    "            numpy_to_midi(recon[i], listen = need_listen)\n",
    "    \n",
    "\n",
    "#         print(key_label)\n"
   ]
  },
  {
   "cell_type": "code",
   "execution_count": 19,
   "metadata": {},
   "outputs": [
    {
     "name": "stderr",
     "output_type": "stream",
     "text": [
      "/gpfsnyu/home/yz6492/.conda/envs/pytorch/lib/python3.7/site-packages/tensorflow/python/framework/dtypes.py:526: FutureWarning: Passing (type, 1) or '1type' as a synonym of type is deprecated; in a future version of numpy, it will be understood as (type, (1,)) / '(1,)type'.\n",
      "  _np_qint8 = np.dtype([(\"qint8\", np.int8, 1)])\n",
      "/gpfsnyu/home/yz6492/.conda/envs/pytorch/lib/python3.7/site-packages/tensorflow/python/framework/dtypes.py:527: FutureWarning: Passing (type, 1) or '1type' as a synonym of type is deprecated; in a future version of numpy, it will be understood as (type, (1,)) / '(1,)type'.\n",
      "  _np_quint8 = np.dtype([(\"quint8\", np.uint8, 1)])\n",
      "/gpfsnyu/home/yz6492/.conda/envs/pytorch/lib/python3.7/site-packages/tensorflow/python/framework/dtypes.py:528: FutureWarning: Passing (type, 1) or '1type' as a synonym of type is deprecated; in a future version of numpy, it will be understood as (type, (1,)) / '(1,)type'.\n",
      "  _np_qint16 = np.dtype([(\"qint16\", np.int16, 1)])\n",
      "/gpfsnyu/home/yz6492/.conda/envs/pytorch/lib/python3.7/site-packages/tensorflow/python/framework/dtypes.py:529: FutureWarning: Passing (type, 1) or '1type' as a synonym of type is deprecated; in a future version of numpy, it will be understood as (type, (1,)) / '(1,)type'.\n",
      "  _np_quint16 = np.dtype([(\"quint16\", np.uint16, 1)])\n",
      "/gpfsnyu/home/yz6492/.conda/envs/pytorch/lib/python3.7/site-packages/tensorflow/python/framework/dtypes.py:530: FutureWarning: Passing (type, 1) or '1type' as a synonym of type is deprecated; in a future version of numpy, it will be understood as (type, (1,)) / '(1,)type'.\n",
      "  _np_qint32 = np.dtype([(\"qint32\", np.int32, 1)])\n",
      "/gpfsnyu/home/yz6492/.conda/envs/pytorch/lib/python3.7/site-packages/tensorflow/python/framework/dtypes.py:535: FutureWarning: Passing (type, 1) or '1type' as a synonym of type is deprecated; in a future version of numpy, it will be understood as (type, (1,)) / '(1,)type'.\n",
      "  np_resource = np.dtype([(\"resource\", np.ubyte, 1)])\n"
     ]
    },
    {
     "name": "stdout",
     "output_type": "stream",
     "text": [
      "Using:  GeForce RTX 2080 Ti\n"
     ]
    }
   ],
   "source": [
    "writer = SummaryWriter()\n",
    "\n",
    "model = DisentangledVAE(roll_dims = 130,\n",
    "             hidden_dims = 512,\n",
    "             embed_dims = 32,\n",
    "             feature_dims = 32,\n",
    "             z_other_dims = 160, \n",
    "             word2idx = word2idx,\n",
    "             n_step = data_length)\n",
    "optimizer = optim.Adam(model.parameters(), lr = learning_rate)\n",
    "scheduler = MinExponentialLR(optimizer, gamma=0.99, minimum=1e-4)\n",
    "# step = 0\n",
    "if torch.cuda.is_available():\n",
    "    print('Using: ',\n",
    "          torch.cuda.get_device_name(torch.cuda.current_device()))\n",
    "\n",
    "if is_load:\n",
    "    model.load_state_dict(torch.load(\"/gpfsnyu/scratch/yz6492/multimodal/model/cca-simple_epoch15_length64.pt\"))\n",
    "\n",
    "if torch.cuda.is_available():\n",
    "    model.cuda()"
   ]
  },
  {
   "cell_type": "markdown",
   "metadata": {},
   "source": [
    "### Training Code"
   ]
  },
  {
   "cell_type": "code",
   "execution_count": null,
   "metadata": {
    "scrolled": false
   },
   "outputs": [
    {
     "name": "stdout",
     "output_type": "stream",
     "text": [
      "Model total parameters: 5661122\n",
      "origin:\n",
      "major 4 Irish\n"
     ]
    },
    {
     "data": {
      "text/html": [
       "\n",
       "                <div id='midiPlayerDiv292'></div>\n",
       "                <link rel=\"stylesheet\" href=\"//cuthbertLab.github.io/music21j/css/m21.css\"\n",
       "                    type=\"text/css\" />\n",
       "                <script>\n",
       "                require.config({\n",
       "                    paths: {'music21': '//cuthbertLab.github.io/music21j/src/music21'}\n",
       "                });\n",
       "                require(['music21'], function() {\n",
       "                               mp = new music21.miditools.MidiPlayer();\n",
       "                               mp.addPlayer('#midiPlayerDiv292');\n",
       "                               mp.base64Load('data:audio/midi;base64,TVRoZAAAAAYAAQABBABNVHJrAAABUAD/AwVQaWFubwDAAADgAEAAwAAA/1EDB6EgAP9YBAQCGAgAkDxkhACAPAAAkEBkhACAQAAAkENkhACAQwAAkEBkhACAQAAAkEFkhACAQQAAkEBkhACAQAAAkD5khACAPgAAkEBkhACAQAAAkDxkhACAPAAAkD5khACAPgAAkEBkhACAQAAAkENkhACAQwAAkEhkhACASAAAkENkhACAQwAAkEVkhACARQAAkEFkhACAQQAAkEBkhACAQAAAkEFkhACAQQAAkENkhACAQwAAkEBkhACAQAAAkEFkhACAQQAAkEBkhACAQAAAkEFkhACAQQAAkEVkhACARQAAkENkhACAQwAAkEFkhACAQQAAkEBkggCAQAAAkD5kggCAPgAAkDxkhACAPAAAkDdkhACANwAAkDtkhACAOwAAkD5khACAPgAAkDtkhACAOwCIAP8vAA==');\n",
       "                        });\n",
       "                </script>"
      ],
      "text/plain": [
       "<IPython.core.display.HTML object>"
      ]
     },
     "metadata": {},
     "output_type": "display_data"
    },
    {
     "name": "stdout",
     "output_type": "stream",
     "text": [
      "key_transfer:\n"
     ]
    },
    {
     "data": {
      "text/html": [
       "\n",
       "                <div id='midiPlayerDiv553'></div>\n",
       "                <link rel=\"stylesheet\" href=\"//cuthbertLab.github.io/music21j/css/m21.css\"\n",
       "                    type=\"text/css\" />\n",
       "                <script>\n",
       "                require.config({\n",
       "                    paths: {'music21': '//cuthbertLab.github.io/music21j/src/music21'}\n",
       "                });\n",
       "                require(['music21'], function() {\n",
       "                               mp = new music21.miditools.MidiPlayer();\n",
       "                               mp.addPlayer('#midiPlayerDiv553');\n",
       "                               mp.base64Load('data:audio/midi;base64,TVRoZAAAAAYAAQABBABNVHJrAAABLAD/AwVQaWFubwDAAADgAEAAwAAA/1EDB6EgAP9YBAQCGAgAkDxkhACAPAAAkEBkhACAQAAAkEBkhACAQAAAkEBkhACAQAAAkEFkhACAQQAAkEBkhACAQAAAkD1khACAPQAAkEBkhACAQAAAkDxkhACAPAAAkD9khACAPwAAkEBkiACAQAAAkEhkhACASAAAkERkhACARAAAkEVkhACARQAAkEFkhACAQQAAkEBkhACAQAAAkEFkhACAQQAAkERkhACARAAAkEFkhACAQQAAkEFkiACAQQAAkEFkiACAQQAAkEZkhACARgAAkEBkhACAQAAAkEFkhACAQQAAkDtkhACAOwAAkDdkhACANwAAkDtkhACAOwAAkDtkhACAOwAAkDtkhACAOwCIAP8vAA==');\n",
       "                        });\n",
       "                </script>"
      ],
      "text/plain": [
       "<IPython.core.display.HTML object>"
      ]
     },
     "metadata": {},
     "output_type": "display_data"
    },
    {
     "data": {
      "text/html": [
       "\n",
       "                <div id='midiPlayerDiv798'></div>\n",
       "                <link rel=\"stylesheet\" href=\"//cuthbertLab.github.io/music21j/css/m21.css\"\n",
       "                    type=\"text/css\" />\n",
       "                <script>\n",
       "                require.config({\n",
       "                    paths: {'music21': '//cuthbertLab.github.io/music21j/src/music21'}\n",
       "                });\n",
       "                require(['music21'], function() {\n",
       "                               mp = new music21.miditools.MidiPlayer();\n",
       "                               mp.addPlayer('#midiPlayerDiv798');\n",
       "                               mp.base64Load('data:audio/midi;base64,TVRoZAAAAAYAAQABBABNVHJrAAABGgD/AwVQaWFubwDAAADgAEAAwAAA/1EDB6EgAP9YBAQCGAgAkDxkhACAPAAAkEBkhACAQAAAkERkhACARAAAkEJkhACAQgAAkEFkhACAQQAAkEBkhACAQAAAkD1khACAPQAAkEBkhACAQAAAkDxkhACAPAAAkD9khACAPwAAkEFkiACAQQAAkEhkhACASAAAkERkhACARAAAkERkhACARAAAkEFkhACAQQAAkEBkhACAQAAAkEFkhACAQQAAkERkhACARAAAkEFkhACAQQAAkEFkkACAQQAAkEZkhACARgAAkEFkhACAQQAAkEBkhACAQAAAkDpkhACAOgAAkDhkhACAOAAAkDtkhACAOwAAkDtkiACAOwCIAP8vAA==');\n",
       "                        });\n",
       "                </script>"
      ],
      "text/plain": [
       "<IPython.core.display.HTML object>"
      ]
     },
     "metadata": {},
     "output_type": "display_data"
    },
    {
     "data": {
      "text/html": [
       "\n",
       "                <div id='midiPlayerDiv1059'></div>\n",
       "                <link rel=\"stylesheet\" href=\"//cuthbertLab.github.io/music21j/css/m21.css\"\n",
       "                    type=\"text/css\" />\n",
       "                <script>\n",
       "                require.config({\n",
       "                    paths: {'music21': '//cuthbertLab.github.io/music21j/src/music21'}\n",
       "                });\n",
       "                require(['music21'], function() {\n",
       "                               mp = new music21.miditools.MidiPlayer();\n",
       "                               mp.addPlayer('#midiPlayerDiv1059');\n",
       "                               mp.base64Load('data:audio/midi;base64,TVRoZAAAAAYAAQABBABNVHJrAAABLAD/AwVQaWFubwDAAADgAEAAwAAA/1EDB6EgAP9YBAQCGAgAkDxkhACAPAAAkEBkhACAQAAAkEBkhACAQAAAkEBkhACAQAAAkEFkhACAQQAAkEBkhACAQAAAkD1khACAPQAAkEBkhACAQAAAkDxkhACAPAAAkD9khACAPwAAkEBkiACAQAAAkEhkhACASAAAkEVkhACARQAAkERkhACARAAAkEFkhACAQQAAkEBkhACAQAAAkEFkhACAQQAAkEVkhACARQAAkEFkhACAQQAAkEFkiACAQQAAkEFkiACAQQAAkEZkhACARgAAkEBkhACAQAAAkEFkhACAQQAAkDtkhACAOwAAkDdkhACANwAAkDtkhACAOwAAkDtkhACAOwAAkDtkhACAOwCIAP8vAA==');\n",
       "                        });\n",
       "                </script>"
      ],
      "text/plain": [
       "<IPython.core.display.HTML object>"
      ]
     },
     "metadata": {},
     "output_type": "display_data"
    },
    {
     "name": "stdout",
     "output_type": "stream",
     "text": [
      "origin:\n",
      "major 4 Irish\n"
     ]
    },
    {
     "data": {
      "text/html": [
       "\n",
       "                <div id='midiPlayerDiv1352'></div>\n",
       "                <link rel=\"stylesheet\" href=\"//cuthbertLab.github.io/music21j/css/m21.css\"\n",
       "                    type=\"text/css\" />\n",
       "                <script>\n",
       "                require.config({\n",
       "                    paths: {'music21': '//cuthbertLab.github.io/music21j/src/music21'}\n",
       "                });\n",
       "                require(['music21'], function() {\n",
       "                               mp = new music21.miditools.MidiPlayer();\n",
       "                               mp.addPlayer('#midiPlayerDiv1352');\n",
       "                               mp.base64Load('data:audio/midi;base64,TVRoZAAAAAYAAQABBABNVHJrAAABUAD/AwVQaWFubwDAAADgAEAAwAAA/1EDB6EgAP9YBAQCGAgAkDxkhACAPAAAkEBkhACAQAAAkENkhACAQwAAkEBkhACAQAAAkEFkhACAQQAAkEBkhACAQAAAkD5khACAPgAAkEBkhACAQAAAkDxkhACAPAAAkD5khACAPgAAkEBkhACAQAAAkENkhACAQwAAkEhkhACASAAAkENkhACAQwAAkEVkhACARQAAkEFkhACAQQAAkEBkhACAQAAAkEFkhACAQQAAkENkhACAQwAAkEBkhACAQAAAkEFkhACAQQAAkEBkhACAQAAAkEFkhACAQQAAkEVkhACARQAAkENkhACAQwAAkEFkhACAQQAAkEBkggCAQAAAkD5kggCAPgAAkDxkhACAPAAAkDdkhACANwAAkDtkhACAOwAAkD5khACAPgAAkDtkhACAOwCIAP8vAA==');\n",
       "                        });\n",
       "                </script>"
      ],
      "text/plain": [
       "<IPython.core.display.HTML object>"
      ]
     },
     "metadata": {},
     "output_type": "display_data"
    },
    {
     "name": "stdout",
     "output_type": "stream",
     "text": [
      "meter_transfer:\n"
     ]
    },
    {
     "data": {
      "text/html": [
       "\n",
       "                <div id='midiPlayerDiv1637'></div>\n",
       "                <link rel=\"stylesheet\" href=\"//cuthbertLab.github.io/music21j/css/m21.css\"\n",
       "                    type=\"text/css\" />\n",
       "                <script>\n",
       "                require.config({\n",
       "                    paths: {'music21': '//cuthbertLab.github.io/music21j/src/music21'}\n",
       "                });\n",
       "                require(['music21'], function() {\n",
       "                               mp = new music21.miditools.MidiPlayer();\n",
       "                               mp.addPlayer('#midiPlayerDiv1637');\n",
       "                               mp.base64Load('data:audio/midi;base64,TVRoZAAAAAYAAQABBABNVHJrAAABRwD/AwVQaWFubwDAAADgAEAAwAAA/1EDB6EgAP9YBAQCGAgAkDxkhACAPAAAkEBkhACAQAAAkENkhACAQwAAkEBkhACAQAAAkEFkhACAQQAAkEBkhACAQAAAkEBkhACAQAAAkD5khACAPgAAkDxkhACAPAAAkD5khACAPgAAkEBkhACAQAAAkENkhACAQwAAkEhkhACASAAAkEVkhACARQAAkENkhACAQwAAkEFkhACAQQAAkEBkhACAQAAAkEFkhACAQQAAkENkhACAQwAAkEBkhACAQAAAkEFkhACAQQAAkEFkhACAQQAAkENkhACAQwAAkEFkhACAQQAAkENkhACAQwAAkEFkhACAQQAAkD5khACAPgAAkD5khACAPgAAkDdkhACANwAAkDtkhACAOwAAkDtkhACAOwAAkDtkhACAOwCIAP8vAA==');\n",
       "                        });\n",
       "                </script>"
      ],
      "text/plain": [
       "<IPython.core.display.HTML object>"
      ]
     },
     "metadata": {},
     "output_type": "display_data"
    },
    {
     "data": {
      "text/html": [
       "\n",
       "                <div id='midiPlayerDiv1922'></div>\n",
       "                <link rel=\"stylesheet\" href=\"//cuthbertLab.github.io/music21j/css/m21.css\"\n",
       "                    type=\"text/css\" />\n",
       "                <script>\n",
       "                require.config({\n",
       "                    paths: {'music21': '//cuthbertLab.github.io/music21j/src/music21'}\n",
       "                });\n",
       "                require(['music21'], function() {\n",
       "                               mp = new music21.miditools.MidiPlayer();\n",
       "                               mp.addPlayer('#midiPlayerDiv1922');\n",
       "                               mp.base64Load('data:audio/midi;base64,TVRoZAAAAAYAAQABBABNVHJrAAABRwD/AwVQaWFubwDAAADgAEAAwAAA/1EDB6EgAP9YBAQCGAgAkDxkhACAPAAAkEBkhACAQAAAkENkhACAQwAAkEBkhACAQAAAkEFkhACAQQAAkEBkhACAQAAAkEBkhACAQAAAkD5khACAPgAAkDxkhACAPAAAkD5khACAPgAAkEBkhACAQAAAkENkhACAQwAAkEhkhACASAAAkEVkhACARQAAkENkhACAQwAAkEFkhACAQQAAkEBkhACAQAAAkEFkhACAQQAAkENkhACAQwAAkEFkhACAQQAAkEBkhACAQAAAkEFkhACAQQAAkENkhACAQwAAkEVkhACARQAAkENkhACAQwAAkEFkhACAQQAAkD5khACAPgAAkD5khACAPgAAkDdkhACANwAAkDtkhACAOwAAkD5khACAPgAAkDtkhACAOwCIAP8vAA==');\n",
       "                        });\n",
       "                </script>"
      ],
      "text/plain": [
       "<IPython.core.display.HTML object>"
      ]
     },
     "metadata": {},
     "output_type": "display_data"
    },
    {
     "data": {
      "text/html": [
       "\n",
       "                <div id='midiPlayerDiv2207'></div>\n",
       "                <link rel=\"stylesheet\" href=\"//cuthbertLab.github.io/music21j/css/m21.css\"\n",
       "                    type=\"text/css\" />\n",
       "                <script>\n",
       "                require.config({\n",
       "                    paths: {'music21': '//cuthbertLab.github.io/music21j/src/music21'}\n",
       "                });\n",
       "                require(['music21'], function() {\n",
       "                               mp = new music21.miditools.MidiPlayer();\n",
       "                               mp.addPlayer('#midiPlayerDiv2207');\n",
       "                               mp.base64Load('data:audio/midi;base64,TVRoZAAAAAYAAQABBABNVHJrAAABRwD/AwVQaWFubwDAAADgAEAAwAAA/1EDB6EgAP9YBAQCGAgAkDxkhACAPAAAkEBkhACAQAAAkENkhACAQwAAkEBkhACAQAAAkEFkhACAQQAAkEBkhACAQAAAkEBkhACAQAAAkD5khACAPgAAkDxkhACAPAAAkD5khACAPgAAkEBkhACAQAAAkENkhACAQwAAkEhkhACASAAAkEVkhACARQAAkENkhACAQwAAkEFkhACAQQAAkEBkhACAQAAAkEFkhACAQQAAkENkhACAQwAAkEBkhACAQAAAkEFkhACAQQAAkEFkhACAQQAAkENkhACAQwAAkEFkhACAQQAAkENkhACAQwAAkEFkhACAQQAAkD5khACAPgAAkD5khACAPgAAkDdkhACANwAAkDtkhACAOwAAkD5khACAPgAAkDtkhACAOwCIAP8vAA==');\n",
       "                        });\n",
       "                </script>"
      ],
      "text/plain": [
       "<IPython.core.display.HTML object>"
      ]
     },
     "metadata": {},
     "output_type": "display_data"
    },
    {
     "name": "stdout",
     "output_type": "stream",
     "text": [
      "origin:\n",
      "major 4 Irish\n"
     ]
    },
    {
     "data": {
      "text/html": [
       "\n",
       "                <div id='midiPlayerDiv2500'></div>\n",
       "                <link rel=\"stylesheet\" href=\"//cuthbertLab.github.io/music21j/css/m21.css\"\n",
       "                    type=\"text/css\" />\n",
       "                <script>\n",
       "                require.config({\n",
       "                    paths: {'music21': '//cuthbertLab.github.io/music21j/src/music21'}\n",
       "                });\n",
       "                require(['music21'], function() {\n",
       "                               mp = new music21.miditools.MidiPlayer();\n",
       "                               mp.addPlayer('#midiPlayerDiv2500');\n",
       "                               mp.base64Load('data:audio/midi;base64,TVRoZAAAAAYAAQABBABNVHJrAAABUAD/AwVQaWFubwDAAADgAEAAwAAA/1EDB6EgAP9YBAQCGAgAkDxkhACAPAAAkEBkhACAQAAAkENkhACAQwAAkEBkhACAQAAAkEFkhACAQQAAkEBkhACAQAAAkD5khACAPgAAkEBkhACAQAAAkDxkhACAPAAAkD5khACAPgAAkEBkhACAQAAAkENkhACAQwAAkEhkhACASAAAkENkhACAQwAAkEVkhACARQAAkEFkhACAQQAAkEBkhACAQAAAkEFkhACAQQAAkENkhACAQwAAkEBkhACAQAAAkEFkhACAQQAAkEBkhACAQAAAkEFkhACAQQAAkEVkhACARQAAkENkhACAQwAAkEFkhACAQQAAkEBkggCAQAAAkD5kggCAPgAAkDxkhACAPAAAkDdkhACANwAAkDtkhACAOwAAkD5khACAPgAAkDtkhACAOwCIAP8vAA==');\n",
       "                        });\n",
       "                </script>"
      ],
      "text/plain": [
       "<IPython.core.display.HTML object>"
      ]
     },
     "metadata": {},
     "output_type": "display_data"
    },
    {
     "name": "stdout",
     "output_type": "stream",
     "text": [
      "culture_transfer:\n"
     ]
    },
    {
     "data": {
      "text/html": [
       "\n",
       "                <div id='midiPlayerDiv2777'></div>\n",
       "                <link rel=\"stylesheet\" href=\"//cuthbertLab.github.io/music21j/css/m21.css\"\n",
       "                    type=\"text/css\" />\n",
       "                <script>\n",
       "                require.config({\n",
       "                    paths: {'music21': '//cuthbertLab.github.io/music21j/src/music21'}\n",
       "                });\n",
       "                require(['music21'], function() {\n",
       "                               mp = new music21.miditools.MidiPlayer();\n",
       "                               mp.addPlayer('#midiPlayerDiv2777');\n",
       "                               mp.base64Load('data:audio/midi;base64,TVRoZAAAAAYAAQABBABNVHJrAAABPgD/AwVQaWFubwDAAADgAEAAwAAA/1EDB6EgAP9YBAQCGAgAkDxkhACAPAAAkEBkhACAQAAAkENkhACAQwAAkEBkhACAQAAAkENkhACAQwAAkEBkhACAQAAAkEBkhACAQAAAkD5khACAPgAAkDxkhACAPAAAkEBkhACAQAAAkENkhACAQwAAkEBkhACAQAAAkEhkhACASAAAkENkhACAQwAAkEVkhACARQAAkENkhACAQwAAkEBkhACAQAAAkEVkhACARQAAkENkhACAQwAAkENkhACAQwAAkEBkiACAQAAAkENkhACAQwAAkEVkhACARQAAkENkhACAQwAAkEBkhACAQAAAkD5khACAPgAAkDtkhACAOwAAkDdkhACANwAAkDtkhACAOwAAkDtkhACAOwAAkDtkhACAOwCIAP8vAA==');\n",
       "                        });\n",
       "                </script>"
      ],
      "text/plain": [
       "<IPython.core.display.HTML object>"
      ]
     },
     "metadata": {},
     "output_type": "display_data"
    },
    {
     "data": {
      "text/html": [
       "\n",
       "                <div id='midiPlayerDiv3054'></div>\n",
       "                <link rel=\"stylesheet\" href=\"//cuthbertLab.github.io/music21j/css/m21.css\"\n",
       "                    type=\"text/css\" />\n",
       "                <script>\n",
       "                require.config({\n",
       "                    paths: {'music21': '//cuthbertLab.github.io/music21j/src/music21'}\n",
       "                });\n",
       "                require(['music21'], function() {\n",
       "                               mp = new music21.miditools.MidiPlayer();\n",
       "                               mp.addPlayer('#midiPlayerDiv3054');\n",
       "                               mp.base64Load('data:audio/midi;base64,TVRoZAAAAAYAAQABBABNVHJrAAABPgD/AwVQaWFubwDAAADgAEAAwAAA/1EDB6EgAP9YBAQCGAgAkDxkhACAPAAAkEBkhACAQAAAkENkhACAQwAAkEBkhACAQAAAkENkhACAQwAAkEBkhACAQAAAkEBkhACAQAAAkD5khACAPgAAkDxkhACAPAAAkEBkhACAQAAAkENkhACAQwAAkEBkhACAQAAAkEhkhACASAAAkENkhACAQwAAkEVkhACARQAAkENkhACAQwAAkEBkhACAQAAAkEVkhACARQAAkENkhACAQwAAkEBkhACAQAAAkENkiACAQwAAkENkhACAQwAAkEVkhACARQAAkENkhACAQwAAkEBkhACAQAAAkD5khACAPgAAkDtkhACAOwAAkDdkhACANwAAkDtkhACAOwAAkDtkhACAOwAAkDtkhACAOwCIAP8vAA==');\n",
       "                        });\n",
       "                </script>"
      ],
      "text/plain": [
       "<IPython.core.display.HTML object>"
      ]
     },
     "metadata": {},
     "output_type": "display_data"
    },
    {
     "data": {
      "text/html": [
       "\n",
       "                <div id='midiPlayerDiv3331'></div>\n",
       "                <link rel=\"stylesheet\" href=\"//cuthbertLab.github.io/music21j/css/m21.css\"\n",
       "                    type=\"text/css\" />\n",
       "                <script>\n",
       "                require.config({\n",
       "                    paths: {'music21': '//cuthbertLab.github.io/music21j/src/music21'}\n",
       "                });\n",
       "                require(['music21'], function() {\n",
       "                               mp = new music21.miditools.MidiPlayer();\n",
       "                               mp.addPlayer('#midiPlayerDiv3331');\n",
       "                               mp.base64Load('data:audio/midi;base64,TVRoZAAAAAYAAQABBABNVHJrAAABPgD/AwVQaWFubwDAAADgAEAAwAAA/1EDB6EgAP9YBAQCGAgAkDxkhACAPAAAkEBkhACAQAAAkENkhACAQwAAkEBkhACAQAAAkEFkhACAQQAAkEBkhACAQAAAkEBkhACAQAAAkDxkhACAPAAAkDxkhACAPAAAkEBkhACAQAAAkEBkhACAQAAAkENkhACAQwAAkEhkhACASAAAkENkhACAQwAAkEVkhACARQAAkEFkhACAQQAAkEBkhACAQAAAkEFkhACAQQAAkENkhACAQwAAkEFkhACAQQAAkEBkiACAQAAAkENkhACAQwAAkEVkhACARQAAkENkhACAQwAAkEBkhACAQAAAkD5khACAPgAAkDtkhACAOwAAkDdkhACANwAAkDtkhACAOwAAkDxkhACAPAAAkDtkhACAOwCIAP8vAA==');\n",
       "                        });\n",
       "                </script>"
      ],
      "text/plain": [
       "<IPython.core.display.HTML object>"
      ]
     },
     "metadata": {},
     "output_type": "display_data"
    },
    {
     "name": "stdout",
     "output_type": "stream",
     "text": [
      "> <ipython-input-20-a14d00f57dab>(23)<module>()\n",
      "-> for valid_data_X, valid_label in valid_loader:\n",
      "(Pdb) c\n",
      "origin:\n",
      "major 4 Irish\n"
     ]
    },
    {
     "data": {
      "text/html": [
       "\n",
       "                <div id='midiPlayerDiv3633'></div>\n",
       "                <link rel=\"stylesheet\" href=\"//cuthbertLab.github.io/music21j/css/m21.css\"\n",
       "                    type=\"text/css\" />\n",
       "                <script>\n",
       "                require.config({\n",
       "                    paths: {'music21': '//cuthbertLab.github.io/music21j/src/music21'}\n",
       "                });\n",
       "                require(['music21'], function() {\n",
       "                               mp = new music21.miditools.MidiPlayer();\n",
       "                               mp.addPlayer('#midiPlayerDiv3633');\n",
       "                               mp.base64Load('data:audio/midi;base64,TVRoZAAAAAYAAQABBABNVHJrAAABUQD/AwVQaWFubwDAAADgAEAAwAAA/1EDB6EgAP9YBAQCGAgAkEpkhACASgAAkEpkhACASgAAkEdkhACARwAAkEpkggCASgAAkEpkggCASgAAkEpkggCASgAAkExkhACATAAAkEpkhACASgAAkEdkhACARwAAkEpkhACASgAAkExkhACATAAAkEpkhACASgAAkE9khACATwAAkEpkhACASgAAkExkhACATAAAkEpkhACASgAAkEdkhACARwAAkENkhACAQwAAkEVkhACARQAAkEhkhACASAAAkEdkhACARwAAkExkhACATAAAkEpkhACASgAAkEhkhACASAAAkEdkhACARwAAkENkhACAQwAAkEVkhACARQAAkEhkhACASAAAkEdkhACARwAAkENkhACAQwAAkENkhACAQwCEAJBHZIQAgEcAAJBIZIIAgEgAiAD/LwA=');\n",
       "                        });\n",
       "                </script>"
      ],
      "text/plain": [
       "<IPython.core.display.HTML object>"
      ]
     },
     "metadata": {},
     "output_type": "display_data"
    },
    {
     "name": "stdout",
     "output_type": "stream",
     "text": [
      "key_transfer:\n"
     ]
    },
    {
     "data": {
      "text/html": [
       "\n",
       "                <div id='midiPlayerDiv3935'></div>\n",
       "                <link rel=\"stylesheet\" href=\"//cuthbertLab.github.io/music21j/css/m21.css\"\n",
       "                    type=\"text/css\" />\n",
       "                <script>\n",
       "                require.config({\n",
       "                    paths: {'music21': '//cuthbertLab.github.io/music21j/src/music21'}\n",
       "                });\n",
       "                require(['music21'], function() {\n",
       "                               mp = new music21.miditools.MidiPlayer();\n",
       "                               mp.addPlayer('#midiPlayerDiv3935');\n",
       "                               mp.base64Load('data:audio/midi;base64,TVRoZAAAAAYAAQABBABNVHJrAAABUQD/AwVQaWFubwDAAADgAEAAwAAA/1EDB6EgAP9YBAQCGAgAkEpkhACASgAAkEpkhACASgAAkEdkhACARwAAkEpkggCASgAAkExkggCATAAAkEpkhgCASgAAkEpkggCASgAAkEpkggCASgAAkExkhACATAAAkEpkhACASgAAkEpkggCASgAAkExkggCATAAAkEpkhACASgAAkEpkhACASgAAkExkhACATAAAkE9khACATwAAkEpkhACASgAAkEpkiACASgAAkEVkhACARQAAkENkhACAQwAAkEhkhACASAAAkExkhACATAAAkEpkhACASgAAkEhkhACASAAAkEdkhACARwAAkENkhACAQwAAkENkhACAQwAAkEdkhACARwAAkEdkhACARwAAkENkhgCAQwCCAJBMZIQAgEwAAJBIZIQAgEgAAJBHZIIAgEcAiAD/LwA=');\n",
       "                        });\n",
       "                </script>"
      ],
      "text/plain": [
       "<IPython.core.display.HTML object>"
      ]
     },
     "metadata": {},
     "output_type": "display_data"
    },
    {
     "data": {
      "text/html": [
       "\n",
       "                <div id='midiPlayerDiv4237'></div>\n",
       "                <link rel=\"stylesheet\" href=\"//cuthbertLab.github.io/music21j/css/m21.css\"\n",
       "                    type=\"text/css\" />\n",
       "                <script>\n",
       "                require.config({\n",
       "                    paths: {'music21': '//cuthbertLab.github.io/music21j/src/music21'}\n",
       "                });\n",
       "                require(['music21'], function() {\n",
       "                               mp = new music21.miditools.MidiPlayer();\n",
       "                               mp.addPlayer('#midiPlayerDiv4237');\n",
       "                               mp.base64Load('data:audio/midi;base64,TVRoZAAAAAYAAQABBABNVHJrAAABUQD/AwVQaWFubwDAAADgAEAAwAAA/1EDB6EgAP9YBAQCGAgAkEpkhACASgAAkEpkhACASgAAkEdkhACARwAAkEpkggCASgAAkExkggCATAAAkEpkhgCASgAAkEpkggCASgAAkEpkggCASgAAkExkhACATAAAkEpkhACASgAAkEpkggCASgAAkExkggCATAAAkEpkhACASgAAkEpkhACASgAAkExkhACATAAAkE9khACATwAAkEpkhACASgAAkEpkiACASgAAkEVkhACARQAAkENkhACAQwAAkEhkhACASAAAkExkhACATAAAkEpkhACASgAAkEhkhACASAAAkEdkhACARwAAkENkhACAQwAAkENkhACAQwAAkEdkhACARwAAkEdkhACARwAAkENkhgCAQwCCAJBMZIQAgEwAAJBHZIQAgEcAAJBIZIIAgEgAiAD/LwA=');\n",
       "                        });\n",
       "                </script>"
      ],
      "text/plain": [
       "<IPython.core.display.HTML object>"
      ]
     },
     "metadata": {},
     "output_type": "display_data"
    },
    {
     "data": {
      "text/html": [
       "\n",
       "                <div id='midiPlayerDiv4539'></div>\n",
       "                <link rel=\"stylesheet\" href=\"//cuthbertLab.github.io/music21j/css/m21.css\"\n",
       "                    type=\"text/css\" />\n",
       "                <script>\n",
       "                require.config({\n",
       "                    paths: {'music21': '//cuthbertLab.github.io/music21j/src/music21'}\n",
       "                });\n",
       "                require(['music21'], function() {\n",
       "                               mp = new music21.miditools.MidiPlayer();\n",
       "                               mp.addPlayer('#midiPlayerDiv4539');\n",
       "                               mp.base64Load('data:audio/midi;base64,TVRoZAAAAAYAAQABBABNVHJrAAABUQD/AwVQaWFubwDAAADgAEAAwAAA/1EDB6EgAP9YBAQCGAgAkEpkhACASgAAkEpkhACASgAAkEdkhACARwAAkEpkggCASgAAkExkggCATAAAkEpkhgCASgAAkEpkggCASgAAkEpkggCASgAAkExkhACATAAAkEpkhACASgAAkEpkggCASgAAkExkggCATAAAkEpkhACASgAAkEpkhACASgAAkExkhACATAAAkE9khACATwAAkEpkhACASgAAkEpkiACASgAAkEVkhACARQAAkENkhACAQwAAkEhkhACASAAAkExkhACATAAAkEpkhACASgAAkEhkhACASAAAkEdkhACARwAAkENkhACAQwAAkENkhACAQwAAkEdkhACARwAAkEdkhACARwAAkENkhgCAQwCCAJBMZIQAgEwAAJBIZIQAgEgAAJBHZIIAgEcAiAD/LwA=');\n",
       "                        });\n",
       "                </script>"
      ],
      "text/plain": [
       "<IPython.core.display.HTML object>"
      ]
     },
     "metadata": {},
     "output_type": "display_data"
    },
    {
     "name": "stdout",
     "output_type": "stream",
     "text": [
      "origin:\n",
      "major 4 Irish\n"
     ]
    },
    {
     "data": {
      "text/html": [
       "\n",
       "                <div id='midiPlayerDiv4841'></div>\n",
       "                <link rel=\"stylesheet\" href=\"//cuthbertLab.github.io/music21j/css/m21.css\"\n",
       "                    type=\"text/css\" />\n",
       "                <script>\n",
       "                require.config({\n",
       "                    paths: {'music21': '//cuthbertLab.github.io/music21j/src/music21'}\n",
       "                });\n",
       "                require(['music21'], function() {\n",
       "                               mp = new music21.miditools.MidiPlayer();\n",
       "                               mp.addPlayer('#midiPlayerDiv4841');\n",
       "                               mp.base64Load('data:audio/midi;base64,TVRoZAAAAAYAAQABBABNVHJrAAABUQD/AwVQaWFubwDAAADgAEAAwAAA/1EDB6EgAP9YBAQCGAgAkEpkhACASgAAkEpkhACASgAAkEdkhACARwAAkEpkggCASgAAkEpkggCASgAAkEpkggCASgAAkExkhACATAAAkEpkhACASgAAkEdkhACARwAAkEpkhACASgAAkExkhACATAAAkEpkhACASgAAkE9khACATwAAkEpkhACASgAAkExkhACATAAAkEpkhACASgAAkEdkhACARwAAkENkhACAQwAAkEVkhACARQAAkEhkhACASAAAkEdkhACARwAAkExkhACATAAAkEpkhACASgAAkEhkhACASAAAkEdkhACARwAAkENkhACAQwAAkEVkhACARQAAkEhkhACASAAAkEdkhACARwAAkENkhACAQwAAkENkhACAQwCEAJBHZIQAgEcAAJBIZIIAgEgAiAD/LwA=');\n",
       "                        });\n",
       "                </script>"
      ],
      "text/plain": [
       "<IPython.core.display.HTML object>"
      ]
     },
     "metadata": {},
     "output_type": "display_data"
    },
    {
     "name": "stdout",
     "output_type": "stream",
     "text": [
      "meter_transfer:\n"
     ]
    },
    {
     "data": {
      "text/html": [
       "\n",
       "                <div id='midiPlayerDiv5102'></div>\n",
       "                <link rel=\"stylesheet\" href=\"//cuthbertLab.github.io/music21j/css/m21.css\"\n",
       "                    type=\"text/css\" />\n",
       "                <script>\n",
       "                require.config({\n",
       "                    paths: {'music21': '//cuthbertLab.github.io/music21j/src/music21'}\n",
       "                });\n",
       "                require(['music21'], function() {\n",
       "                               mp = new music21.miditools.MidiPlayer();\n",
       "                               mp.addPlayer('#midiPlayerDiv5102');\n",
       "                               mp.base64Load('data:audio/midi;base64,TVRoZAAAAAYAAQABBABNVHJrAAABLAD/AwVQaWFubwDAAADgAEAAwAAA/1EDB6EgAP9YBAQCGAgAkEpkhACASgAAkEpkhACASgAAkEdkhACARwAAkEpkhACASgAAkEpkggCASgAAkExkggCATAAAkEpkggCASgAAkEpkhACASgAAkEpkhACASgAAkEpkggCASgAAkEpkhACASgAAkExkjACATAAAkEpkhACASgAAkExkhACATAAAkEpkhACASgAAkEdkiACARwAAkEVkhACARQAAkEhkhACASAAAkEhkiACASAAAkExkhACATAAAkEhkhACASAAAkEdkhACARwAAkENkiACAQwAAkEhkhACASAAAkEdkhACARwAAkENkhACAQwAAkENkhACAQwAAkEhkhACASAAAkEdkhACARwCIAP8vAA==');\n",
       "                        });\n",
       "                </script>"
      ],
      "text/plain": [
       "<IPython.core.display.HTML object>"
      ]
     },
     "metadata": {},
     "output_type": "display_data"
    },
    {
     "data": {
      "text/html": [
       "\n",
       "                <div id='midiPlayerDiv5396'></div>\n",
       "                <link rel=\"stylesheet\" href=\"//cuthbertLab.github.io/music21j/css/m21.css\"\n",
       "                    type=\"text/css\" />\n",
       "                <script>\n",
       "                require.config({\n",
       "                    paths: {'music21': '//cuthbertLab.github.io/music21j/src/music21'}\n",
       "                });\n",
       "                require(['music21'], function() {\n",
       "                               mp = new music21.miditools.MidiPlayer();\n",
       "                               mp.addPlayer('#midiPlayerDiv5396');\n",
       "                               mp.base64Load('data:audio/midi;base64,TVRoZAAAAAYAAQABBABNVHJrAAABSAD/AwVQaWFubwDAAADgAEAAwAAA/1EDB6EgAP9YBAQCGAgAkEpkhACASgAAkEpkhACASgAAkEdkhACARwAAkEpkggCASgAAkEpkggCASgAAkExkggCATAAAkEpkhACASgAAkEpkggCASgAAkEpkggCASgAAkEpkhgCASgAAkEpkggCASgAAkExkggCATAAAkEpkjACASgAAkEpkggCASgAAkExkhACATAAAkEpkhACASgAAkEhkiACASAAAkEVkhACARQAAkENkhACAQwAAkEhkhACASAAAkExkhACATAAAkEpkhACASgAAkEhkhACASAAAkEdkhACARwAAkENkhACAQwAAkENkhACAQwAAkEhkhACASAAAkEdkhACARwAAkENkhgCAQwCCAJBMZIQAgEwAAJBHZIQAgEcAAJBIZIIAgEgAiAD/LwA=');\n",
       "                        });\n",
       "                </script>"
      ],
      "text/plain": [
       "<IPython.core.display.HTML object>"
      ]
     },
     "metadata": {},
     "output_type": "display_data"
    },
    {
     "data": {
      "text/html": [
       "\n",
       "                <div id='midiPlayerDiv5657'></div>\n",
       "                <link rel=\"stylesheet\" href=\"//cuthbertLab.github.io/music21j/css/m21.css\"\n",
       "                    type=\"text/css\" />\n",
       "                <script>\n",
       "                require.config({\n",
       "                    paths: {'music21': '//cuthbertLab.github.io/music21j/src/music21'}\n",
       "                });\n",
       "                require(['music21'], function() {\n",
       "                               mp = new music21.miditools.MidiPlayer();\n",
       "                               mp.addPlayer('#midiPlayerDiv5657');\n",
       "                               mp.base64Load('data:audio/midi;base64,TVRoZAAAAAYAAQABBABNVHJrAAABLAD/AwVQaWFubwDAAADgAEAAwAAA/1EDB6EgAP9YBAQCGAgAkEpkhACASgAAkEpkhACASgAAkEdkhACARwAAkEpkggCASgAAkEpkggCASgAAkEpkggCASgAAkExkggCATAAAkEpkggCASgAAkEpkhACASgAAkEpkhACASgAAkExkggCATAAAkEpkhACASgAAkEpkjACASgAAkEpkhACASgAAkExkhACATAAAkEpkigCASgAAkEVkhgCARQAAkEhkhACASAAAkEdkiACARwAAkExkhACATAAAkEhkhACASAAAkENkiACAQwAAkENkhACAQwAAkEhkhACASAAAkEdkhACARwAAkENkhACAQwAAkENkhACAQwAAkEhkhACASAAAkEdkhACARwCIAP8vAA==');\n",
       "                        });\n",
       "                </script>"
      ],
      "text/plain": [
       "<IPython.core.display.HTML object>"
      ]
     },
     "metadata": {},
     "output_type": "display_data"
    },
    {
     "name": "stdout",
     "output_type": "stream",
     "text": [
      "origin:\n",
      "major 4 Irish\n"
     ]
    },
    {
     "data": {
      "text/html": [
       "\n",
       "                <div id='midiPlayerDiv5959'></div>\n",
       "                <link rel=\"stylesheet\" href=\"//cuthbertLab.github.io/music21j/css/m21.css\"\n",
       "                    type=\"text/css\" />\n",
       "                <script>\n",
       "                require.config({\n",
       "                    paths: {'music21': '//cuthbertLab.github.io/music21j/src/music21'}\n",
       "                });\n",
       "                require(['music21'], function() {\n",
       "                               mp = new music21.miditools.MidiPlayer();\n",
       "                               mp.addPlayer('#midiPlayerDiv5959');\n",
       "                               mp.base64Load('data:audio/midi;base64,TVRoZAAAAAYAAQABBABNVHJrAAABUQD/AwVQaWFubwDAAADgAEAAwAAA/1EDB6EgAP9YBAQCGAgAkEpkhACASgAAkEpkhACASgAAkEdkhACARwAAkEpkggCASgAAkEpkggCASgAAkEpkggCASgAAkExkhACATAAAkEpkhACASgAAkEdkhACARwAAkEpkhACASgAAkExkhACATAAAkEpkhACASgAAkE9khACATwAAkEpkhACASgAAkExkhACATAAAkEpkhACASgAAkEdkhACARwAAkENkhACAQwAAkEVkhACARQAAkEhkhACASAAAkEdkhACARwAAkExkhACATAAAkEpkhACASgAAkEhkhACASAAAkEdkhACARwAAkENkhACAQwAAkEVkhACARQAAkEhkhACASAAAkEdkhACARwAAkENkhACAQwAAkENkhACAQwCEAJBHZIQAgEcAAJBIZIIAgEgAiAD/LwA=');\n",
       "                        });\n",
       "                </script>"
      ],
      "text/plain": [
       "<IPython.core.display.HTML object>"
      ]
     },
     "metadata": {},
     "output_type": "display_data"
    },
    {
     "name": "stdout",
     "output_type": "stream",
     "text": [
      "culture_transfer:\n"
     ]
    },
    {
     "data": {
      "text/html": [
       "\n",
       "                <div id='midiPlayerDiv6260'></div>\n",
       "                <link rel=\"stylesheet\" href=\"//cuthbertLab.github.io/music21j/css/m21.css\"\n",
       "                    type=\"text/css\" />\n",
       "                <script>\n",
       "                require.config({\n",
       "                    paths: {'music21': '//cuthbertLab.github.io/music21j/src/music21'}\n",
       "                });\n",
       "                require(['music21'], function() {\n",
       "                               mp = new music21.miditools.MidiPlayer();\n",
       "                               mp.addPlayer('#midiPlayerDiv6260');\n",
       "                               mp.base64Load('data:audio/midi;base64,TVRoZAAAAAYAAQABBABNVHJrAAABWQD/AwVQaWFubwDAAADgAEAAwAAA/1EDB6EgAP9YBAQCGAgAkEpkhACASgAAkEhkhACASAAAkEdkhACARwAAkEpkggCASgAAkEpkggCASgAAkExkggCATAAAkE1khACATQAAkEpkhACASgAAkEpkhACASgAAkExkhACATAAAkEpkhACASgAAkExkhACATAAAkEpkhACASgAAkE9khACATwAAkExkhACATAAAkEpkhACASgAAkEdkhACARwAAkENkhACAQwAAkENkhACAQwAAkEVkhACARQAAkEhkhACASAAAkExkhACATAAAkExkhACATAAAkEhkhACASAAAkEhkhACASAAAkEdkhACARwAAkENkhACAQwAAkEhkhACASAAAkEVkhACARQAAkENkhACAQwAAkEBkhACAQAAAkENkhACAQwAAkENkhACAQwAAkEhkggCASACIAP8vAA==');\n",
       "                        });\n",
       "                </script>"
      ],
      "text/plain": [
       "<IPython.core.display.HTML object>"
      ]
     },
     "metadata": {},
     "output_type": "display_data"
    },
    {
     "data": {
      "text/html": [
       "\n",
       "                <div id='midiPlayerDiv6561'></div>\n",
       "                <link rel=\"stylesheet\" href=\"//cuthbertLab.github.io/music21j/css/m21.css\"\n",
       "                    type=\"text/css\" />\n",
       "                <script>\n",
       "                require.config({\n",
       "                    paths: {'music21': '//cuthbertLab.github.io/music21j/src/music21'}\n",
       "                });\n",
       "                require(['music21'], function() {\n",
       "                               mp = new music21.miditools.MidiPlayer();\n",
       "                               mp.addPlayer('#midiPlayerDiv6561');\n",
       "                               mp.base64Load('data:audio/midi;base64,TVRoZAAAAAYAAQABBABNVHJrAAABWQD/AwVQaWFubwDAAADgAEAAwAAA/1EDB6EgAP9YBAQCGAgAkEpkhACASgAAkEpkhACASgAAkEdkhACARwAAkEpkggCASgAAkEpkggCASgAAkEpkggCASgAAkExkhACATAAAkEpkhACASgAAkEpkhACASgAAkExkhACATAAAkEpkhACASgAAkExkhACATAAAkEpkhACASgAAkE9khACATwAAkExkhACATAAAkEpkhACASgAAkEdkhACARwAAkENkhACAQwAAkEVkhACARQAAkENkhACAQwAAkEhkhACASAAAkExkhACATAAAkExkhACATAAAkEhkhACASAAAkEhkhACASAAAkEdkhACARwAAkENkhACAQwAAkEhkhACASAAAkEdkhACARwAAkENkhACAQwAAkEBkhACAQAAAkENkhACAQwAAkENkhACAQwAAkEhkggCASACIAP8vAA==');\n",
       "                        });\n",
       "                </script>"
      ],
      "text/plain": [
       "<IPython.core.display.HTML object>"
      ]
     },
     "metadata": {},
     "output_type": "display_data"
    },
    {
     "data": {
      "text/html": [
       "\n",
       "                <div id='midiPlayerDiv6862'></div>\n",
       "                <link rel=\"stylesheet\" href=\"//cuthbertLab.github.io/music21j/css/m21.css\"\n",
       "                    type=\"text/css\" />\n",
       "                <script>\n",
       "                require.config({\n",
       "                    paths: {'music21': '//cuthbertLab.github.io/music21j/src/music21'}\n",
       "                });\n",
       "                require(['music21'], function() {\n",
       "                               mp = new music21.miditools.MidiPlayer();\n",
       "                               mp.addPlayer('#midiPlayerDiv6862');\n",
       "                               mp.base64Load('data:audio/midi;base64,TVRoZAAAAAYAAQABBABNVHJrAAABWQD/AwVQaWFubwDAAADgAEAAwAAA/1EDB6EgAP9YBAQCGAgAkEZkhACARgAAkEhkhACASAAAkEpkhACASgAAkEdkhACARwAAkEpkggCASgAAkE1kggCATQAAkExkggCATAAAkEpkhACASgAAkE1khACATQAAkE1khACATQAAkEpkhACASgAAkExkhACATAAAkE9khACATwAAkE9khACATwAAkE1khACATQAAkEpkhACASgAAkEhkhACASAAAkENkhACAQwAAkENkhACAQwAAkENkhACAQwAAkEhkhACASAAAkExkhACATAAAkE1khACATQAAkEhkhACASAAAkEhkhACASAAAkEVkhACARQAAkENkhACAQwAAkEhkhACASAAAkEdkhACARwAAkENkhACAQwAAkEBkhACAQAAAkEFkhACAQQAAkENkhACAQwAAkEhkggCASACIAP8vAA==');\n",
       "                        });\n",
       "                </script>"
      ],
      "text/plain": [
       "<IPython.core.display.HTML object>"
      ]
     },
     "metadata": {},
     "output_type": "display_data"
    },
    {
     "name": "stdout",
     "output_type": "stream",
     "text": [
      "> <ipython-input-20-a14d00f57dab>(23)<module>()\n",
      "-> for valid_data_X, valid_label in valid_loader:\n"
     ]
    }
   ],
   "source": [
    "# model training\n",
    "step = 0\n",
    "model.train()\n",
    "\n",
    "params = list(model.parameters())\n",
    "# print(params)\n",
    "total_params = sum(x.size()[0] * x.size()[1] if len(x.size()) > 1 else x.size()[0] for x in params if x.size())\n",
    "print('Model total parameters:', total_params)\n",
    "sys.stdout.flush()\n",
    "\n",
    "\n",
    "\n",
    "train_data = Dataset(train_data)\n",
    "valid_data = Dataset(valid_data)\n",
    "# test_data = Dataset(test_data)\n",
    "\n",
    "for epoch in range(1, 100):\n",
    "    \n",
    "    if generation_mode:\n",
    "        model.eval()\n",
    "        valid_loader = data.DataLoader(valid_data, batch_size=len(valid_data), shuffle=True)\n",
    "        with torch.no_grad():\n",
    "            for valid_data_X, valid_label in valid_loader:\n",
    "                valid_loss = validate(valid_data_X, valid_label)\n",
    "                generate(valid_data_X, valid_label)\n",
    "                pdb.set_trace()\n",
    "\n",
    "            model.train()\n",
    "    else:      \n",
    "        print('Epoch: {}'.format(epoch))\n",
    "\n",
    "        train_loader = data.DataLoader(train_data, batch_size=batch_size, shuffle=True)\n",
    "\n",
    "        if (epoch > 0) and (epoch % 2) == 0:\n",
    "            clear_output(wait=True)\n",
    "\n",
    "    #     # test_loader = data.DataLoader(test_data, batch_size=batch_size, shuffle=True)\n",
    "        for i, labels in train_loader:\n",
    "            i = i.float()\n",
    "            labels = [j.float() for j in labels]\n",
    "            step = train(i, labels, step)\n",
    "\n",
    "            if len(history_loss_list) > 5:\n",
    "                torch.save(model.cpu().state_dict(), f'/gpfsnyu/scratch/yz6492/multimodal/model/{model_name}_BEST_length{data_length}.pt')\n",
    "                model.cuda()\n",
    "\n",
    "\n",
    "        if epoch % 5 == 0:\n",
    "            torch.save(model.cpu().state_dict(), f'/gpfsnyu/scratch/yz6492/multimodal/model/{model_name}_epoch{epoch}_length{data_length}.pt')\n",
    "            model.cuda()\n",
    "\n",
    "# torch.save(model.cpu().state_dict(), f'/gpfsnyu/scratch/yz6492/multimodal/model/{model_name}_final.pt')\n",
    "\n",
    "# test\n",
    "\n",
    "writer.close()"
   ]
  },
  {
   "cell_type": "markdown",
   "metadata": {},
   "source": [
    "### Generation"
   ]
  },
  {
   "cell_type": "code",
   "execution_count": null,
   "metadata": {},
   "outputs": [],
   "source": [
    "\n",
    "\n",
    "# train_data = Dataset(train_data)\n",
    "# train_loader = data.DataLoader(train_data, batch_size=batch_size, shuffle=False)\n",
    "# for i, labels in train_loader:\n",
    "#     i = i.float()\n",
    "#     labels = [j.float() for j in labels]\n",
    "#     generate(i, labels)\n",
    "#     break"
   ]
  }
 ],
 "metadata": {
  "kernelspec": {
   "display_name": "Python 3",
   "language": "python",
   "name": "python3"
  },
  "language_info": {
   "codemirror_mode": {
    "name": "ipython",
    "version": 3
   },
   "file_extension": ".py",
   "mimetype": "text/x-python",
   "name": "python",
   "nbconvert_exporter": "python",
   "pygments_lexer": "ipython3",
   "version": "3.7.5"
  }
 },
 "nbformat": 4,
 "nbformat_minor": 2
}

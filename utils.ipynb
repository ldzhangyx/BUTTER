{
 "cells": [
  {
   "cell_type": "code",
   "execution_count": null,
   "metadata": {},
   "outputs": [],
   "source": [
    "from music21 import midi\n",
    "import pretty_midi\n",
    "import torch\n",
    "import numpy as np\n",
    "from copy import copy, deepcopy\n",
    "import pysnooper\n",
    "import time"
   ]
  },
  {
   "cell_type": "code",
   "execution_count": 1,
   "metadata": {},
   "outputs": [
    {
     "ename": "SyntaxError",
     "evalue": "invalid syntax (<ipython-input-1-9fa7f2ea4068>, line 35)",
     "output_type": "error",
     "traceback": [
      "\u001b[0;36m  File \u001b[0;32m\"<ipython-input-1-9fa7f2ea4068>\"\u001b[0;36m, line \u001b[0;32m35\u001b[0m\n\u001b[0;31m    output =\u001b[0m\n\u001b[0m             ^\u001b[0m\n\u001b[0;31mSyntaxError\u001b[0m\u001b[0;31m:\u001b[0m invalid syntax\n"
     ]
    }
   ],
   "source": [
    "def numpy_to_midi(sample_roll, output_folder='demo', listen = False, save = True):\n",
    "    music = pretty_midi.PrettyMIDI()\n",
    "    piano_program = pretty_midi.instrument_name_to_program(\n",
    "        'Acoustic Grand Piano')\n",
    "    piano = pretty_midi.Instrument(program=piano_program)\n",
    "    t = 0\n",
    "    for i in sample_roll:\n",
    "        if 'torch' in str(type(i)):\n",
    "            pitch = int(i.max(0)[1])\n",
    "        else:\n",
    "            pitch = int(np.argmax(i))\n",
    "        if pitch < 128:\n",
    "            note = pretty_midi.Note(\n",
    "                velocity=100, pitch=pitch, start=t, end=t + 1 / 8)\n",
    "            t += 1 / 8\n",
    "            piano.notes.append(note)\n",
    "        elif pitch == 128:\n",
    "            if len(piano.notes) > 0:\n",
    "                note = piano.notes.pop()\n",
    "            else:\n",
    "                p = np.random.randint(60, 72)\n",
    "                note = pretty_midi.Note(\n",
    "                    velocity=100, pitch=int(p), start=0, end=t)\n",
    "            note = pretty_midi.Note(\n",
    "                velocity=100,\n",
    "                pitch=note.pitch,\n",
    "                start=note.start,\n",
    "                end=note.end + 1 / 8)\n",
    "            piano.notes.append(note)\n",
    "            t += 1 / 8\n",
    "        elif pitch == 129:\n",
    "            t += 1 / 8\n",
    "    music.instruments.append(piano)\n",
    "    if output_folder is None:\n",
    "        output = str(time.time()) + '.mid'\n",
    "    else:\n",
    "        output = output_folder + '/' + str(time.time()) + '.mid'\n",
    "    if save:\n",
    "        music.write(output)\n",
    "    if listen:\n",
    "        midi_listener(output)"
   ]
  },
  {
   "cell_type": "code",
   "execution_count": 2,
   "metadata": {},
   "outputs": [],
   "source": [
    "def midi_listener(midi_file_path):\n",
    "    mf = midi.MidiFile()\n",
    "    mf.open(midi_file_path)\n",
    "    mf.read()\n",
    "    mf.close()\n",
    "    s = midi.translate.midiFileToStream(mf)\n",
    "    s.show('midi')"
   ]
  },
  {
   "cell_type": "code",
   "execution_count": null,
   "metadata": {},
   "outputs": [],
   "source": [
    "def data_augment(musicdata_list, data_length):\n",
    "    output_list = list()\n",
    "    aug_time_stats = list()\n",
    "    \n",
    "    for i, data_object in enumerate(musicdata_list):\n",
    "        aug_time = len(data_object.torch_matrix) // data_length\n",
    "        # print(len(data_object.torch_matrix), data_object.torch_matrix.shape)\n",
    "        aug_time_stats.append(aug_time)\n",
    "        if aug_time >= 1:\n",
    "            for j in range(aug_time):\n",
    "                temp_data = copy(data_object)\n",
    "                temp_data.torch_matrix = data_object.torch_matrix[data_length*j:data_length*(j+1)]\n",
    "                output_list.append(temp_data)\n",
    "    # print(aug_time_stats)\n",
    "    return output_list"
   ]
  }
 ],
 "metadata": {
  "kernelspec": {
   "display_name": "Python 3",
   "language": "python",
   "name": "python3"
  },
  "language_info": {
   "codemirror_mode": {
    "name": "ipython",
    "version": 3
   },
   "file_extension": ".py",
   "mimetype": "text/x-python",
   "name": "python",
   "nbconvert_exporter": "python",
   "pygments_lexer": "ipython3",
   "version": "3.7.5"
  }
 },
 "nbformat": 4,
 "nbformat_minor": 2
}
